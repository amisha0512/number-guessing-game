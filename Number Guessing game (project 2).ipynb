{
 "cells": [
  {
   "cell_type": "code",
   "execution_count": 1,
   "id": "c1f93fb0",
   "metadata": {},
   "outputs": [
    {
     "name": "stdout",
     "output_type": "stream",
     "text": [
      "if you are quit then type 'Q' and yor are start then type 'S' other wise press enter  S\n",
      "guess a number: 14\n",
      "draw number is:  14\n",
      "CONGRATULATION, you win\n",
      "if you are quit then type 'Q' and yor are start then type 'S' other wise press enter  S\n",
      "guess a number: 11\n",
      "draw number is:  17\n",
      "SORRY, your guess number is to low. \n",
      "if you are quit then type 'Q' and yor are start then type 'S' other wise press enter  S\n",
      "guess a number: 19\n",
      "draw number is:  14\n",
      "SORRY, your guess number is to high. \n",
      "if you are quit then type 'Q' and yor are start then type 'S' other wise press enter  S\n",
      "guess a number: 12\n",
      "draw number is:  11\n",
      "SORRY, your guess number is to high. \n",
      "if you are quit then type 'Q' and yor are start then type 'S' other wise press enter  Q\n"
     ]
    }
   ],
   "source": [
    "while True:\n",
    "    import random\n",
    "    cn=random.randrange(10,20)\n",
    "    choice=input(\"if you are quit then type 'Q' and yor are start then type 'S' other wise press enter  \") \n",
    "    if choice==\"Q\":\n",
    "        break\n",
    "    un=int(input(\"guess a number: \"))\n",
    "    if un>cn:\n",
    "        print(\"draw number is: \",cn)\n",
    "        print(\"SORRY, your guess number is to high. \")\n",
    "    elif cn>un:\n",
    "        print(\"draw number is: \",cn)\n",
    "        print(\"SORRY, your guess number is to low. \")\n",
    "    else:\n",
    "        print(\"draw number is: \",cn)\n",
    "        print(\"CONGRATULATION, you win\")\n",
    "\n"
   ]
  },
  {
   "cell_type": "code",
   "execution_count": null,
   "id": "ec64e5a5",
   "metadata": {},
   "outputs": [],
   "source": []
  }
 ],
 "metadata": {
  "kernelspec": {
   "display_name": "Python 3 (ipykernel)",
   "language": "python",
   "name": "python3"
  },
  "language_info": {
   "codemirror_mode": {
    "name": "ipython",
    "version": 3
   },
   "file_extension": ".py",
   "mimetype": "text/x-python",
   "name": "python",
   "nbconvert_exporter": "python",
   "pygments_lexer": "ipython3",
   "version": "3.11.2"
  }
 },
 "nbformat": 4,
 "nbformat_minor": 5
}
